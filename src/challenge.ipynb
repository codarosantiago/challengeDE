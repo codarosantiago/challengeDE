{
 "cells": [
  {
   "cell_type": "code",
   "execution_count": null,
   "metadata": {},
   "outputs": [],
   "source": [
    "{\n",
    "    \"url\": \"https://twitter.com/ArjunSinghPanam/status/1364506249291784198\",\n",
    "    \"date\": \"2021-02-24T09:23:35+00:00\",\n",
    "    \"content\": \"The world progresses while the Indian police and Govt are still trying to take India back to the horrific past through its tyranny. \\n\\n@narendramodi @DelhiPolice Shame on you. \\n\\n#ModiDontSellFarmers \\n#FarmersProtest \\n#FreeNodeepKaur https://t.co/es3kn0IQAF\",\n",
    "    \"renderedContent\": \"The world progresses while the Indian police and Govt are still trying to take India back to the horrific past through its tyranny. \\n\\n@narendramodi @DelhiPolice Shame on you. \\n\\n#ModiDontSellFarmers \\n#FarmersProtest \\n#FreeNodeepKaur twitter.com/ravisinghka/st\\u2026\",\n",
    "    \"id\": 1364506249291784198,\n",
    "    \"user\":{\n",
    "        \"username\": \"ArjunSinghPanam\",\n",
    "        \"displayname\": \"Arjun Singh Panam\",\n",
    "        \"id\": 45091142,\n",
    "        \"description\": \"Global Citizen, Actor, Director: Sky is the roof above my head, the world is the road I travel, love is my food & mother earth is my bed. Roy in @CosmosMovie\",\n",
    "        \"rawDescription\": \"Global Citizen, Actor, Director: Sky is the roof above my head, the world is the road I travel, love is my food & mother earth is my bed. Roy in @CosmosMovie\",\n",
    "        \"descriptionUrls\": [],\n",
    "        \"verified\": false,\n",
    "        \"created\": \"2009-06-06T07:50:57+00:00\",\n",
    "        \"followersCount\": 603,\n",
    "        \"friendsCount\": 311,\n",
    "        \"statusesCount\": 17534,\n",
    "        \"favouritesCount\": 4269,\n",
    "        \"listedCount\": 23,\n",
    "        \"mediaCount\": 1211,\n",
    "        \"location\": \"\",\n",
    "        \"protected\": false,\n",
    "        \"linkUrl\": \"https://www.cosmosmovieofficial.com\",\n",
    "        \"linkTcourl\": \"https://t.co/3uaoV3gCt3\",\n",
    "        \"profileImageUrl\": \"https://pbs.twimg.com/profile_images/1215541746492461056/3De61YoQ_normal.jpg\",\n",
    "        \"profileBannerUrl\": \"https://pbs.twimg.com/profile_banners/45091142/1612601766\",\n",
    "        \"url\": \"https://twitter.com/ArjunSinghPanam\"\n",
    "    },\n",
    "    \"outlinks\": [\"https://twitter.com/ravisinghka/status/1364150844757860352\"],\n",
    "    \"tcooutlinks\": [\"https://t.co/es3kn0IQAF\"],\n",
    "    \"replyCount\": 0,\n",
    "    \"retweetCount\": 0,\n",
    "    \"likeCount\": 0, \"quoteCount\": 0,\n",
    "    \"conversationId\": 1364506249291784198,\n",
    "    \"lang\": \"en\",\n",
    "    \"source\": \"<a href=\\\"http://twitter.com/download/iphone\\\" rel=\\\"nofollow\\\">Twitter for iPhone</a>\",\n",
    "    \"sourceUrl\": \"http://twitter.com/download/iphone\",\n",
    "    \"sourceLabel\": \"Twitter for iPhone\",\n",
    "    \"media\": null,\n",
    "    \"retweetedTweet\": null,\n",
    "}"
   ]
  },
  {
   "cell_type": "markdown",
   "metadata": {},
   "source": [
    "En este archivo puedes escribir lo que estimes conveniente. Te recomendamos detallar tu solución y todas las suposiciones que estás considerando. Aquí puedes ejecutar las funciones que definiste en los otros archivos de la carpeta src, medir el tiempo, memoria, etc."
   ]
  },
  {
   "cell_type": "code",
   "execution_count": 1,
   "metadata": {},
   "outputs": [],
   "source": [
    "file_path = \"../data/farmers-protest-tweets-2021-2-4.json\""
   ]
  },
  {
   "cell_type": "code",
   "execution_count": 2,
   "metadata": {},
   "outputs": [
    {
     "name": "stdout",
     "output_type": "stream",
     "text": [
      "[(datetime.date(2021, 2, 12), 'RanbirS00614606'), (datetime.date(2021, 2, 13), 'MaanDee08215437'), (datetime.date(2021, 2, 17), 'RaaJVinderkaur'), (datetime.date(2021, 2, 16), 'jot__b'), (datetime.date(2021, 2, 14), 'rebelpacifist'), (datetime.date(2021, 2, 18), 'neetuanjle_nitu'), (datetime.date(2021, 2, 15), 'jot__b'), (datetime.date(2021, 2, 20), 'MangalJ23056160'), (datetime.date(2021, 2, 23), 'Surrypuria'), (datetime.date(2021, 2, 19), 'Preetm91')]\n"
     ]
    }
   ],
   "source": [
    "from q1_memory import q1_memory\n",
    "\n",
    "print(q1_memory(file_path))"
   ]
  },
  {
   "cell_type": "code",
   "execution_count": 3,
   "metadata": {},
   "outputs": [
    {
     "name": "stdout",
     "output_type": "stream",
     "text": [
      "[(datetime.date(2021, 2, 12), 'RanbirS00614606'), (datetime.date(2021, 2, 13), 'MaanDee08215437'), (datetime.date(2021, 2, 17), 'RaaJVinderkaur'), (datetime.date(2021, 2, 16), 'jot__b'), (datetime.date(2021, 2, 14), 'rebelpacifist'), (datetime.date(2021, 2, 18), 'neetuanjle_nitu'), (datetime.date(2021, 2, 15), 'jot__b'), (datetime.date(2021, 2, 20), 'MangalJ23056160'), (datetime.date(2021, 2, 23), 'Surrypuria'), (datetime.date(2021, 2, 19), 'Preetm91')]\n"
     ]
    }
   ],
   "source": [
    "from q1_time import q1_time\n",
    "\n",
    "print(q1_time(file_path))"
   ]
  },
  {
   "cell_type": "markdown",
   "metadata": {},
   "source": []
  },
  {
   "cell_type": "code",
   "execution_count": null,
   "metadata": {},
   "outputs": [],
   "source": []
  },
  {
   "cell_type": "code",
   "execution_count": null,
   "metadata": {},
   "outputs": [],
   "source": []
  },
  {
   "cell_type": "code",
   "execution_count": null,
   "metadata": {},
   "outputs": [],
   "source": []
  },
  {
   "cell_type": "code",
   "execution_count": null,
   "metadata": {},
   "outputs": [],
   "source": []
  }
 ],
 "metadata": {
  "language_info": {
   "name": "python"
  },
  "orig_nbformat": 4
 },
 "nbformat": 4,
 "nbformat_minor": 2
}
